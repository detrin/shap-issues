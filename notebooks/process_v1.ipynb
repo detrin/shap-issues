{
 "cells": [
  {
   "cell_type": "code",
   "execution_count": 8,
   "metadata": {},
   "outputs": [],
   "source": [
    "import os\n",
    "import json\n",
    "import openai\n",
    "import time\n",
    "from tqdm import tqdm\n",
    "import polars as pl\n",
    "from dotenv import dotenv_values\n",
    "\n",
    "config = dotenv_values(\"../.env\") "
   ]
  },
  {
   "cell_type": "code",
   "execution_count": 18,
   "metadata": {},
   "outputs": [],
   "source": [
    "def get_issue_reponses(title, body):\n",
    "    cost = 0\n",
    "    response = openai.ChatCompletion.create(\n",
    "        engine=config[\"OPENAI_ENGINE\"], \n",
    "        messages=[\n",
    "            {\"role\": \"system\", \"content\": \"You are a helpful assistant that is python master and have years of experience with github moderation.\"},\n",
    "            {\"role\": \"user\", \"content\": f\"Is the description of issue good? \\ntitle: {title}\\nbody: {body}\\nAnswer with Yes/No as single word\"},\n",
    "        ]\n",
    "    )\n",
    "    description_quality = response['choices'][0]['message']['content']\n",
    "    cost += response['usage'][\"total_tokens\"]\n",
    "\n",
    "    response = openai.ChatCompletion.create(\n",
    "        engine=config[\"OPENAI_ENGINE\"], \n",
    "        messages=[\n",
    "            {\"role\": \"system\", \"content\": \"You are a helpful assistant that is python master and have years of experience with github moderation.\"},\n",
    "            {\"role\": \"user\", \"content\": f\"Give me one sentence summary of following issue, use ten words or less: \\ntitle: {title}\\nbody: {body}\"},\n",
    "        ]\n",
    "    )\n",
    "    summary = response['choices'][0]['message']['content']\n",
    "    cost += response['usage'][\"total_tokens\"]\n",
    "\n",
    "    response = openai.ChatCompletion.create(\n",
    "        engine=config[\"OPENAI_ENGINE\"], \n",
    "        messages=[\n",
    "            {\"role\": \"system\", \"content\": \"You are a helpful assistant that is python master and have years of experience with github moderation. You are maintainer of shap package\"},\n",
    "            {\"role\": \"user\", \"content\": f\"Suggest short label for this issue. Label should be of maximum two words: \\ntitle: {title}\\nbody: {body}\"},\n",
    "        ]\n",
    "    )\n",
    "    short_label = response['choices'][0]['message']['content']\n",
    "    cost += response['usage'][\"total_tokens\"]\n",
    "\n",
    "    issue_labels = [\n",
    "        \"bug\",\n",
    "        \"documentation\",\n",
    "        \"enhancement\",\n",
    "        \"good first issue\",\n",
    "        \"stale\"\n",
    "    ]\n",
    "    response = openai.ChatCompletion.create(\n",
    "        engine=config[\"OPENAI_ENGINE\"], \n",
    "        messages=[\n",
    "            {\"role\": \"system\", \"content\": \"You are a helpful assistant that is python master and have years of experience with github moderation. You are maintainer of shap package\"},\n",
    "            {\"role\": \"user\", \"content\": f\"Select label from {issue_labels}, where stale label is for issues that are too short and not clear: \\ntitle: {title}\\nbody: {body}\\nAnswer with label name from list and nothing else\"},\n",
    "        ]\n",
    "    )\n",
    "    label = response['choices'][0]['message']['content']\n",
    "    cost += response['usage'][\"total_tokens\"]\n",
    "    # response = openai.ChatCompletion.create(\n",
    "    #     engine=config[\"OPENAI_ENGINE\"], \n",
    "    #     messages=[\n",
    "    #         {\"role\": \"system\", \"content\": \"You are a helpful assistant that is python master and have years of experience with github moderation. You are maintainer of shap package\"},\n",
    "    #         {\"role\": \"user\", \"content\": f\"Write first comment for: \\ntitle: {title}\\nbody: {body}\\n\"},\n",
    "    #     ]\n",
    "    # )\n",
    "    # comment = response['choices'][0]['message']['content']\n",
    "\n",
    "    return description_quality, summary, short_label, label, cost"
   ]
  },
  {
   "cell_type": "code",
   "execution_count": 21,
   "metadata": {},
   "outputs": [],
   "source": [
    "openai.api_type = \"azure\"\n",
    "openai.api_base = config[\"OPENAI_ENDPOINT\"]\n",
    "openai.api_version = \"2023-05-15\"\n",
    "openai.api_key = config[\"OPENAI_KEY\"]\n",
    "\n",
    "data = pl.read_json(\"../data/issues_v1.json\").filter(pl.col(\"number\").is_not_null()).sort(\"number\")\n",
    "data = data.with_columns([\n",
    "    pl.lit(\"\").alias(\"description_quality\"),\n",
    "    pl.lit(\"\").alias(\"summary\"),\n",
    "    pl.lit(\"\").alias(\"short_label\"),\n",
    "    pl.lit(\"\").alias(\"label\"),\n",
    "])"
   ]
  },
  {
   "cell_type": "code",
   "execution_count": 22,
   "metadata": {},
   "outputs": [],
   "source": [
    "total_tokens = 0"
   ]
  },
  {
   "cell_type": "code",
   "execution_count": 28,
   "metadata": {},
   "outputs": [
    {
     "name": "stderr",
     "output_type": "stream",
     "text": [
      "  3%|▎         | 88/2955 [00:02<01:14, 38.37it/s]"
     ]
    },
    {
     "name": "stdout",
     "output_type": "stream",
     "text": [
      "Total tokens: 38714\n",
      "Average tokens per issue: 439.9318181818182\n",
      "Estimated cost: 1.083992\n",
      "Total tokens: 39141\n",
      "Average tokens per issue: 439.7865168539326\n",
      "Estimated cost: 1.095948\n"
     ]
    },
    {
     "name": "stderr",
     "output_type": "stream",
     "text": [
      "  3%|▎         | 90/2955 [00:27<19:56,  2.40it/s]"
     ]
    },
    {
     "name": "stdout",
     "output_type": "stream",
     "text": [
      "Total tokens: 39574\n",
      "Average tokens per issue: 439.7111111111111\n",
      "Estimated cost: 1.108072\n"
     ]
    },
    {
     "name": "stderr",
     "output_type": "stream",
     "text": [
      "  3%|▎         | 91/2955 [00:29<21:21,  2.24it/s]"
     ]
    },
    {
     "name": "stdout",
     "output_type": "stream",
     "text": [
      "Total tokens: 39999\n",
      "Average tokens per issue: 439.54945054945057\n",
      "Estimated cost: 1.1199720000000002\n"
     ]
    },
    {
     "name": "stderr",
     "output_type": "stream",
     "text": [
      "  3%|▎         | 92/2955 [00:51<53:47,  1.13s/it]"
     ]
    },
    {
     "name": "stdout",
     "output_type": "stream",
     "text": [
      "Total tokens: 40436\n",
      "Average tokens per issue: 439.5217391304348\n",
      "Estimated cost: 1.132208\n"
     ]
    },
    {
     "name": "stderr",
     "output_type": "stream",
     "text": [
      "  3%|▎         | 93/2955 [00:53<54:56,  1.15s/it]"
     ]
    },
    {
     "name": "stdout",
     "output_type": "stream",
     "text": [
      "Total tokens: 40867\n",
      "Average tokens per issue: 439.4301075268817\n",
      "Estimated cost: 1.1442759999999998\n"
     ]
    },
    {
     "name": "stderr",
     "output_type": "stream",
     "text": [
      "  3%|▎         | 94/2955 [01:16<1:52:59,  2.37s/it]"
     ]
    },
    {
     "name": "stdout",
     "output_type": "stream",
     "text": [
      "Total tokens: 41307\n",
      "Average tokens per issue: 439.43617021276594\n",
      "Estimated cost: 1.1565960000000002\n"
     ]
    },
    {
     "name": "stderr",
     "output_type": "stream",
     "text": [
      "  3%|▎         | 95/2955 [01:18<1:50:33,  2.32s/it]"
     ]
    },
    {
     "name": "stdout",
     "output_type": "stream",
     "text": [
      "Total tokens: 41731\n",
      "Average tokens per issue: 439.2736842105263\n",
      "Estimated cost: 1.168468\n"
     ]
    },
    {
     "name": "stderr",
     "output_type": "stream",
     "text": [
      "  3%|▎         | 96/2955 [01:41<3:25:25,  4.31s/it]"
     ]
    },
    {
     "name": "stdout",
     "output_type": "stream",
     "text": [
      "Total tokens: 42166\n",
      "Average tokens per issue: 439.2291666666667\n",
      "Estimated cost: 1.180648\n"
     ]
    },
    {
     "name": "stderr",
     "output_type": "stream",
     "text": [
      "  3%|▎         | 97/2955 [01:42<3:10:47,  4.01s/it]"
     ]
    },
    {
     "name": "stdout",
     "output_type": "stream",
     "text": [
      "Total tokens: 42592\n",
      "Average tokens per issue: 439.0927835051546\n",
      "Estimated cost: 1.192576\n"
     ]
    },
    {
     "name": "stderr",
     "output_type": "stream",
     "text": [
      "  3%|▎         | 98/2955 [02:05<5:21:52,  6.76s/it]"
     ]
    },
    {
     "name": "stdout",
     "output_type": "stream",
     "text": [
      "Total tokens: 43028\n",
      "Average tokens per issue: 439.0612244897959\n",
      "Estimated cost: 1.204784\n"
     ]
    },
    {
     "name": "stderr",
     "output_type": "stream",
     "text": [
      "  3%|▎         | 99/2955 [02:07<4:39:39,  5.88s/it]"
     ]
    },
    {
     "name": "stdout",
     "output_type": "stream",
     "text": [
      "Total tokens: 43471\n",
      "Average tokens per issue: 439.1010101010101\n",
      "Estimated cost: 1.217188\n"
     ]
    },
    {
     "name": "stderr",
     "output_type": "stream",
     "text": [
      "  3%|▎         | 100/2955 [02:30<7:21:42,  9.28s/it]"
     ]
    },
    {
     "name": "stdout",
     "output_type": "stream",
     "text": [
      "Total tokens: 43911\n",
      "Average tokens per issue: 439.11\n",
      "Estimated cost: 1.229508\n"
     ]
    },
    {
     "name": "stderr",
     "output_type": "stream",
     "text": [
      "  3%|▎         | 101/2955 [02:32<6:04:54,  7.67s/it]"
     ]
    },
    {
     "name": "stdout",
     "output_type": "stream",
     "text": [
      "Total tokens: 44351\n",
      "Average tokens per issue: 439.1188118811881\n",
      "Estimated cost: 1.241828\n"
     ]
    },
    {
     "name": "stderr",
     "output_type": "stream",
     "text": [
      "  3%|▎         | 102/2955 [02:55<8:59:55, 11.35s/it]"
     ]
    },
    {
     "name": "stdout",
     "output_type": "stream",
     "text": [
      "Total tokens: 44796\n",
      "Average tokens per issue: 439.1764705882353\n",
      "Estimated cost: 1.254288\n"
     ]
    },
    {
     "name": "stderr",
     "output_type": "stream",
     "text": [
      "  3%|▎         | 103/2955 [02:57<7:02:42,  8.89s/it]"
     ]
    },
    {
     "name": "stdout",
     "output_type": "stream",
     "text": [
      "Total tokens: 45229\n",
      "Average tokens per issue: 439.11650485436894\n",
      "Estimated cost: 1.266412\n"
     ]
    },
    {
     "name": "stderr",
     "output_type": "stream",
     "text": [
      "  4%|▎         | 104/2955 [03:19<9:57:36, 12.58s/it]"
     ]
    },
    {
     "name": "stdout",
     "output_type": "stream",
     "text": [
      "Total tokens: 45659\n",
      "Average tokens per issue: 439.02884615384613\n",
      "Estimated cost: 1.278452\n"
     ]
    },
    {
     "name": "stderr",
     "output_type": "stream",
     "text": [
      "  4%|▎         | 105/2955 [03:21<7:33:53,  9.56s/it]"
     ]
    },
    {
     "name": "stdout",
     "output_type": "stream",
     "text": [
      "Total tokens: 46085\n",
      "Average tokens per issue: 438.9047619047619\n",
      "Estimated cost: 1.29038\n"
     ]
    },
    {
     "name": "stderr",
     "output_type": "stream",
     "text": [
      "  4%|▎         | 106/2955 [03:44<10:37:14, 13.42s/it]"
     ]
    },
    {
     "name": "stdout",
     "output_type": "stream",
     "text": [
      "Total tokens: 46520\n",
      "Average tokens per issue: 438.8679245283019\n",
      "Estimated cost: 1.3025600000000002\n"
     ]
    },
    {
     "name": "stderr",
     "output_type": "stream",
     "text": [
      "  4%|▎         | 107/2955 [03:47<8:07:00, 10.26s/it] "
     ]
    },
    {
     "name": "stdout",
     "output_type": "stream",
     "text": [
      "Total tokens: 46959\n",
      "Average tokens per issue: 438.86915887850466\n",
      "Estimated cost: 1.3148520000000001\n"
     ]
    },
    {
     "name": "stderr",
     "output_type": "stream",
     "text": [
      "  4%|▎         | 108/2955 [04:09<11:01:43, 13.95s/it]"
     ]
    },
    {
     "name": "stdout",
     "output_type": "stream",
     "text": [
      "Total tokens: 47408\n",
      "Average tokens per issue: 438.962962962963\n",
      "Estimated cost: 1.3274240000000002\n"
     ]
    },
    {
     "name": "stderr",
     "output_type": "stream",
     "text": [
      "  4%|▎         | 109/2955 [04:11<8:10:51, 10.35s/it] "
     ]
    },
    {
     "name": "stdout",
     "output_type": "stream",
     "text": [
      "Total tokens: 47866\n",
      "Average tokens per issue: 439.13761467889907\n",
      "Estimated cost: 1.340248\n"
     ]
    },
    {
     "name": "stderr",
     "output_type": "stream",
     "text": [
      "  4%|▎         | 110/2955 [04:35<11:15:16, 14.24s/it]"
     ]
    },
    {
     "name": "stdout",
     "output_type": "stream",
     "text": [
      "Total tokens: 48306\n",
      "Average tokens per issue: 439.1454545454545\n",
      "Estimated cost: 1.352568\n"
     ]
    },
    {
     "name": "stderr",
     "output_type": "stream",
     "text": [
      "  4%|▍         | 111/2955 [04:36<8:17:11, 10.49s/it] "
     ]
    },
    {
     "name": "stdout",
     "output_type": "stream",
     "text": [
      "Total tokens: 48748\n",
      "Average tokens per issue: 439.1711711711712\n",
      "Estimated cost: 1.364944\n"
     ]
    },
    {
     "name": "stderr",
     "output_type": "stream",
     "text": [
      "  4%|▍         | 112/2955 [04:59<11:13:27, 14.21s/it]"
     ]
    },
    {
     "name": "stdout",
     "output_type": "stream",
     "text": [
      "Total tokens: 49189\n",
      "Average tokens per issue: 439.1875\n",
      "Estimated cost: 1.377292\n"
     ]
    },
    {
     "name": "stderr",
     "output_type": "stream",
     "text": [
      "  4%|▍         | 113/2955 [05:01<8:16:25, 10.48s/it] "
     ]
    },
    {
     "name": "stdout",
     "output_type": "stream",
     "text": [
      "Total tokens: 49627\n",
      "Average tokens per issue: 439.17699115044246\n",
      "Estimated cost: 1.389556\n"
     ]
    },
    {
     "name": "stderr",
     "output_type": "stream",
     "text": [
      "  4%|▍         | 114/2955 [05:25<11:23:11, 14.43s/it]"
     ]
    },
    {
     "name": "stdout",
     "output_type": "stream",
     "text": [
      "Total tokens: 50091\n",
      "Average tokens per issue: 439.39473684210526\n",
      "Estimated cost: 1.4025480000000001\n"
     ]
    },
    {
     "name": "stderr",
     "output_type": "stream",
     "text": [
      "  4%|▍         | 115/2955 [05:26<8:21:54, 10.60s/it] "
     ]
    },
    {
     "name": "stdout",
     "output_type": "stream",
     "text": [
      "Total tokens: 50539\n",
      "Average tokens per issue: 439.4695652173913\n",
      "Estimated cost: 1.415092\n"
     ]
    },
    {
     "name": "stderr",
     "output_type": "stream",
     "text": [
      "  4%|▍         | 116/2955 [05:49<11:17:53, 14.33s/it]"
     ]
    },
    {
     "name": "stdout",
     "output_type": "stream",
     "text": [
      "Total tokens: 50956\n",
      "Average tokens per issue: 439.2758620689655\n",
      "Estimated cost: 1.426768\n"
     ]
    },
    {
     "name": "stderr",
     "output_type": "stream",
     "text": [
      "  4%|▍         | 117/2955 [05:51<8:18:17, 10.53s/it] "
     ]
    },
    {
     "name": "stdout",
     "output_type": "stream",
     "text": [
      "Total tokens: 51385\n",
      "Average tokens per issue: 439.1880341880342\n",
      "Estimated cost: 1.43878\n"
     ]
    },
    {
     "name": "stderr",
     "output_type": "stream",
     "text": [
      "  4%|▍         | 118/2955 [06:14<11:12:20, 14.22s/it]"
     ]
    },
    {
     "name": "stdout",
     "output_type": "stream",
     "text": [
      "Total tokens: 51828\n",
      "Average tokens per issue: 439.22033898305085\n",
      "Estimated cost: 1.451184\n"
     ]
    },
    {
     "name": "stderr",
     "output_type": "stream",
     "text": [
      "  4%|▍         | 119/2955 [06:16<8:16:08, 10.50s/it] "
     ]
    },
    {
     "name": "stdout",
     "output_type": "stream",
     "text": [
      "Total tokens: 52263\n",
      "Average tokens per issue: 439.1848739495798\n",
      "Estimated cost: 1.4633639999999999\n"
     ]
    },
    {
     "name": "stderr",
     "output_type": "stream",
     "text": [
      "  4%|▍         | 120/2955 [06:39<11:22:45, 14.45s/it]"
     ]
    },
    {
     "name": "stdout",
     "output_type": "stream",
     "text": [
      "Total tokens: 52680\n",
      "Average tokens per issue: 439.0\n",
      "Estimated cost: 1.4750400000000001\n"
     ]
    },
    {
     "name": "stderr",
     "output_type": "stream",
     "text": [
      "  4%|▍         | 121/2955 [06:41<8:23:17, 10.66s/it] "
     ]
    },
    {
     "name": "stdout",
     "output_type": "stream",
     "text": [
      "Total tokens: 53105\n",
      "Average tokens per issue: 438.88429752066116\n",
      "Estimated cost: 1.48694\n"
     ]
    },
    {
     "name": "stderr",
     "output_type": "stream",
     "text": [
      "  4%|▍         | 122/2955 [07:04<11:17:47, 14.36s/it]"
     ]
    },
    {
     "name": "stdout",
     "output_type": "stream",
     "text": [
      "Total tokens: 53539\n",
      "Average tokens per issue: 438.844262295082\n",
      "Estimated cost: 1.499092\n"
     ]
    },
    {
     "name": "stderr",
     "output_type": "stream",
     "text": [
      "  4%|▍         | 123/2955 [07:06<8:21:39, 10.63s/it] "
     ]
    },
    {
     "name": "stdout",
     "output_type": "stream",
     "text": [
      "Total tokens: 54002\n",
      "Average tokens per issue: 439.0406504065041\n",
      "Estimated cost: 1.512056\n"
     ]
    },
    {
     "name": "stderr",
     "output_type": "stream",
     "text": [
      "  4%|▍         | 124/2955 [07:29<11:13:41, 14.28s/it]"
     ]
    },
    {
     "name": "stdout",
     "output_type": "stream",
     "text": [
      "Total tokens: 54428\n",
      "Average tokens per issue: 438.93548387096774\n",
      "Estimated cost: 1.523984\n"
     ]
    },
    {
     "name": "stderr",
     "output_type": "stream",
     "text": [
      "  4%|▍         | 125/2955 [07:31<8:17:25, 10.55s/it] "
     ]
    },
    {
     "name": "stdout",
     "output_type": "stream",
     "text": [
      "Total tokens: 54869\n",
      "Average tokens per issue: 438.952\n",
      "Estimated cost: 1.536332\n"
     ]
    },
    {
     "name": "stderr",
     "output_type": "stream",
     "text": [
      "  4%|▍         | 126/2955 [07:54<11:11:53, 14.25s/it]"
     ]
    },
    {
     "name": "stdout",
     "output_type": "stream",
     "text": [
      "Total tokens: 55306\n",
      "Average tokens per issue: 438.93650793650795\n",
      "Estimated cost: 1.548568\n"
     ]
    },
    {
     "name": "stderr",
     "output_type": "stream",
     "text": [
      "  4%|▍         | 127/2955 [07:55<8:15:32, 10.51s/it] "
     ]
    },
    {
     "name": "stdout",
     "output_type": "stream",
     "text": [
      "Total tokens: 55762\n",
      "Average tokens per issue: 439.07086614173227\n",
      "Estimated cost: 1.561336\n"
     ]
    },
    {
     "name": "stderr",
     "output_type": "stream",
     "text": [
      "  4%|▍         | 128/2955 [08:19<11:15:08, 14.33s/it]"
     ]
    },
    {
     "name": "stdout",
     "output_type": "stream",
     "text": [
      "Total tokens: 56214\n",
      "Average tokens per issue: 439.171875\n",
      "Estimated cost: 1.573992\n"
     ]
    },
    {
     "name": "stderr",
     "output_type": "stream",
     "text": [
      "  4%|▍         | 129/2955 [08:20<8:18:51, 10.59s/it] "
     ]
    },
    {
     "name": "stdout",
     "output_type": "stream",
     "text": [
      "Total tokens: 56658\n",
      "Average tokens per issue: 439.2093023255814\n",
      "Estimated cost: 1.586424\n"
     ]
    },
    {
     "name": "stderr",
     "output_type": "stream",
     "text": [
      "  4%|▍         | 130/2955 [08:44<11:18:03, 14.40s/it]"
     ]
    },
    {
     "name": "stdout",
     "output_type": "stream",
     "text": [
      "Total tokens: 57091\n",
      "Average tokens per issue: 439.16153846153844\n",
      "Estimated cost: 1.598548\n"
     ]
    },
    {
     "name": "stderr",
     "output_type": "stream",
     "text": [
      "  4%|▍         | 131/2955 [08:45<8:16:35, 10.55s/it] "
     ]
    },
    {
     "name": "stdout",
     "output_type": "stream",
     "text": [
      "Total tokens: 57532\n",
      "Average tokens per issue: 439.17557251908397\n",
      "Estimated cost: 1.6108959999999999\n"
     ]
    },
    {
     "name": "stderr",
     "output_type": "stream",
     "text": [
      "  4%|▍         | 132/2955 [09:09<11:23:43, 14.53s/it]"
     ]
    },
    {
     "name": "stdout",
     "output_type": "stream",
     "text": [
      "Total tokens: 57977\n",
      "Average tokens per issue: 439.219696969697\n",
      "Estimated cost: 1.623356\n"
     ]
    },
    {
     "name": "stderr",
     "output_type": "stream",
     "text": [
      "  5%|▍         | 133/2955 [09:11<8:22:13, 10.68s/it] "
     ]
    },
    {
     "name": "stdout",
     "output_type": "stream",
     "text": [
      "Total tokens: 58409\n",
      "Average tokens per issue: 439.16541353383457\n",
      "Estimated cost: 1.635452\n"
     ]
    },
    {
     "name": "stderr",
     "output_type": "stream",
     "text": [
      "  5%|▍         | 134/2955 [09:34<11:21:01, 14.48s/it]"
     ]
    },
    {
     "name": "stdout",
     "output_type": "stream",
     "text": [
      "Total tokens: 58859\n",
      "Average tokens per issue: 439.24626865671644\n",
      "Estimated cost: 1.648052\n"
     ]
    },
    {
     "name": "stderr",
     "output_type": "stream",
     "text": [
      "  5%|▍         | 135/2955 [09:36<8:17:48, 10.59s/it] "
     ]
    },
    {
     "name": "stdout",
     "output_type": "stream",
     "text": [
      "Total tokens: 59279\n",
      "Average tokens per issue: 439.10370370370373\n",
      "Estimated cost: 1.659812\n"
     ]
    },
    {
     "name": "stderr",
     "output_type": "stream",
     "text": [
      "  5%|▍         | 136/2955 [09:59<11:19:13, 14.46s/it]"
     ]
    },
    {
     "name": "stdout",
     "output_type": "stream",
     "text": [
      "Total tokens: 59711\n",
      "Average tokens per issue: 439.0514705882353\n",
      "Estimated cost: 1.671908\n"
     ]
    },
    {
     "name": "stderr",
     "output_type": "stream",
     "text": [
      "  5%|▍         | 137/2955 [10:01<8:19:48, 10.64s/it] "
     ]
    },
    {
     "name": "stdout",
     "output_type": "stream",
     "text": [
      "Total tokens: 60166\n",
      "Average tokens per issue: 439.1678832116788\n",
      "Estimated cost: 1.684648\n"
     ]
    },
    {
     "name": "stderr",
     "output_type": "stream",
     "text": [
      "  5%|▍         | 138/2955 [10:24<11:17:10, 14.42s/it]"
     ]
    },
    {
     "name": "stdout",
     "output_type": "stream",
     "text": [
      "Total tokens: 60597\n",
      "Average tokens per issue: 439.10869565217394\n",
      "Estimated cost: 1.6967160000000001\n"
     ]
    },
    {
     "name": "stderr",
     "output_type": "stream",
     "text": [
      "  5%|▍         | 139/2955 [10:26<8:19:59, 10.65s/it] "
     ]
    },
    {
     "name": "stdout",
     "output_type": "stream",
     "text": [
      "Total tokens: 61030\n",
      "Average tokens per issue: 439.0647482014389\n",
      "Estimated cost: 1.7088400000000001\n"
     ]
    },
    {
     "name": "stderr",
     "output_type": "stream",
     "text": [
      "  5%|▍         | 140/2955 [10:49<11:15:24, 14.40s/it]"
     ]
    },
    {
     "name": "stdout",
     "output_type": "stream",
     "text": [
      "Total tokens: 61453\n",
      "Average tokens per issue: 438.95\n",
      "Estimated cost: 1.720684\n"
     ]
    },
    {
     "name": "stderr",
     "output_type": "stream",
     "text": [
      "  5%|▍         | 141/2955 [10:51<8:17:44, 10.61s/it] "
     ]
    },
    {
     "name": "stdout",
     "output_type": "stream",
     "text": [
      "Total tokens: 61892\n",
      "Average tokens per issue: 438.9503546099291\n",
      "Estimated cost: 1.732976\n"
     ]
    },
    {
     "name": "stderr",
     "output_type": "stream",
     "text": [
      "  5%|▍         | 142/2955 [11:14<11:14:40, 14.39s/it]"
     ]
    },
    {
     "name": "stdout",
     "output_type": "stream",
     "text": [
      "Total tokens: 62335\n",
      "Average tokens per issue: 438.9788732394366\n",
      "Estimated cost: 1.7453800000000002\n"
     ]
    },
    {
     "name": "stderr",
     "output_type": "stream",
     "text": [
      "  5%|▍         | 143/2955 [11:16<8:19:38, 10.66s/it] "
     ]
    },
    {
     "name": "stdout",
     "output_type": "stream",
     "text": [
      "Total tokens: 62780\n",
      "Average tokens per issue: 439.02097902097904\n",
      "Estimated cost: 1.75784\n"
     ]
    },
    {
     "name": "stderr",
     "output_type": "stream",
     "text": [
      "  5%|▍         | 144/2955 [11:39<11:10:46, 14.32s/it]"
     ]
    },
    {
     "name": "stdout",
     "output_type": "stream",
     "text": [
      "Total tokens: 63209\n",
      "Average tokens per issue: 438.9513888888889\n",
      "Estimated cost: 1.7698520000000002\n"
     ]
    },
    {
     "name": "stderr",
     "output_type": "stream",
     "text": [
      "  5%|▍         | 145/2955 [11:41<8:15:07, 10.57s/it] "
     ]
    },
    {
     "name": "stdout",
     "output_type": "stream",
     "text": [
      "Total tokens: 63637\n",
      "Average tokens per issue: 438.8758620689655\n",
      "Estimated cost: 1.781836\n"
     ]
    },
    {
     "name": "stderr",
     "output_type": "stream",
     "text": [
      "  5%|▍         | 146/2955 [12:04<11:09:40, 14.30s/it]"
     ]
    },
    {
     "name": "stdout",
     "output_type": "stream",
     "text": [
      "Total tokens: 64078\n",
      "Average tokens per issue: 438.8904109589041\n",
      "Estimated cost: 1.7941840000000002\n"
     ]
    },
    {
     "name": "stderr",
     "output_type": "stream",
     "text": [
      "  5%|▍         | 147/2955 [12:06<8:14:04, 10.56s/it] "
     ]
    },
    {
     "name": "stdout",
     "output_type": "stream",
     "text": [
      "Total tokens: 64513\n",
      "Average tokens per issue: 438.86394557823127\n",
      "Estimated cost: 1.806364\n"
     ]
    },
    {
     "name": "stderr",
     "output_type": "stream",
     "text": [
      "  5%|▌         | 148/2955 [12:29<11:11:18, 14.35s/it]"
     ]
    },
    {
     "name": "stdout",
     "output_type": "stream",
     "text": [
      "Total tokens: 64968\n",
      "Average tokens per issue: 438.97297297297297\n",
      "Estimated cost: 1.819104\n"
     ]
    },
    {
     "name": "stderr",
     "output_type": "stream",
     "text": [
      "  5%|▌         | 149/2955 [12:31<8:17:58, 10.65s/it] "
     ]
    },
    {
     "name": "stdout",
     "output_type": "stream",
     "text": [
      "Total tokens: 65383\n",
      "Average tokens per issue: 438.81208053691273\n",
      "Estimated cost: 1.830724\n"
     ]
    },
    {
     "name": "stderr",
     "output_type": "stream",
     "text": [
      "  5%|▌         | 150/2955 [12:54<11:10:26, 14.34s/it]"
     ]
    },
    {
     "name": "stdout",
     "output_type": "stream",
     "text": [
      "Total tokens: 65829\n",
      "Average tokens per issue: 438.86\n",
      "Estimated cost: 1.8432119999999999\n"
     ]
    },
    {
     "name": "stderr",
     "output_type": "stream",
     "text": [
      "  5%|▌         | 151/2955 [12:56<8:19:22, 10.69s/it] "
     ]
    },
    {
     "name": "stdout",
     "output_type": "stream",
     "text": [
      "Total tokens: 66262\n",
      "Average tokens per issue: 438.8211920529801\n",
      "Estimated cost: 1.855336\n"
     ]
    },
    {
     "name": "stderr",
     "output_type": "stream",
     "text": [
      "  5%|▌         | 152/2955 [13:19<11:10:54, 14.36s/it]"
     ]
    },
    {
     "name": "stdout",
     "output_type": "stream",
     "text": [
      "Total tokens: 66697\n",
      "Average tokens per issue: 438.79605263157896\n",
      "Estimated cost: 1.8675160000000002\n"
     ]
    },
    {
     "name": "stderr",
     "output_type": "stream",
     "text": [
      "  5%|▌         | 153/2955 [13:20<8:10:32, 10.50s/it] "
     ]
    },
    {
     "name": "stdout",
     "output_type": "stream",
     "text": [
      "Total tokens: 67130\n",
      "Average tokens per issue: 438.75816993464053\n",
      "Estimated cost: 1.87964\n"
     ]
    },
    {
     "name": "stderr",
     "output_type": "stream",
     "text": [
      "  5%|▌         | 154/2955 [13:43<11:02:30, 14.19s/it]"
     ]
    },
    {
     "name": "stdout",
     "output_type": "stream",
     "text": [
      "Total tokens: 67569\n",
      "Average tokens per issue: 438.7597402597403\n",
      "Estimated cost: 1.8919320000000002\n"
     ]
    },
    {
     "name": "stderr",
     "output_type": "stream",
     "text": [
      "  5%|▌         | 155/2955 [13:45<8:05:31, 10.40s/it] "
     ]
    },
    {
     "name": "stdout",
     "output_type": "stream",
     "text": [
      "Total tokens: 68005\n",
      "Average tokens per issue: 438.741935483871\n",
      "Estimated cost: 1.90414\n"
     ]
    },
    {
     "name": "stderr",
     "output_type": "stream",
     "text": [
      "  5%|▌         | 156/2955 [14:08<11:03:49, 14.23s/it]"
     ]
    },
    {
     "name": "stdout",
     "output_type": "stream",
     "text": [
      "Total tokens: 68435\n",
      "Average tokens per issue: 438.68589743589746\n",
      "Estimated cost: 1.91618\n"
     ]
    },
    {
     "name": "stderr",
     "output_type": "stream",
     "text": [
      "  5%|▌         | 157/2955 [14:10<8:13:18, 10.58s/it] "
     ]
    },
    {
     "name": "stdout",
     "output_type": "stream",
     "text": [
      "Total tokens: 68860\n",
      "Average tokens per issue: 438.5987261146497\n",
      "Estimated cost: 1.92808\n"
     ]
    },
    {
     "name": "stderr",
     "output_type": "stream",
     "text": [
      "  5%|▌         | 158/2955 [14:33<11:04:03, 14.24s/it]"
     ]
    },
    {
     "name": "stdout",
     "output_type": "stream",
     "text": [
      "Total tokens: 69295\n",
      "Average tokens per issue: 438.5759493670886\n",
      "Estimated cost: 1.94026\n"
     ]
    },
    {
     "name": "stderr",
     "output_type": "stream",
     "text": [
      "  5%|▌         | 159/2955 [14:34<8:07:22, 10.46s/it] "
     ]
    },
    {
     "name": "stdout",
     "output_type": "stream",
     "text": [
      "Total tokens: 69731\n",
      "Average tokens per issue: 438.55974842767296\n",
      "Estimated cost: 1.9524679999999999\n"
     ]
    },
    {
     "name": "stderr",
     "output_type": "stream",
     "text": [
      "  5%|▌         | 160/2955 [14:57<11:03:07, 14.24s/it]"
     ]
    },
    {
     "name": "stdout",
     "output_type": "stream",
     "text": [
      "Total tokens: 70185\n",
      "Average tokens per issue: 438.65625\n",
      "Estimated cost: 1.9651800000000001\n"
     ]
    },
    {
     "name": "stderr",
     "output_type": "stream",
     "text": [
      "  5%|▌         | 161/2955 [14:59<8:11:50, 10.56s/it] "
     ]
    },
    {
     "name": "stdout",
     "output_type": "stream",
     "text": [
      "Total tokens: 70630\n",
      "Average tokens per issue: 438.69565217391306\n",
      "Estimated cost: 1.9776399999999998\n"
     ]
    },
    {
     "name": "stderr",
     "output_type": "stream",
     "text": [
      "  5%|▌         | 162/2955 [15:23<11:07:26, 14.34s/it]"
     ]
    },
    {
     "name": "stdout",
     "output_type": "stream",
     "text": [
      "Total tokens: 71084\n",
      "Average tokens per issue: 438.7901234567901\n",
      "Estimated cost: 1.9903520000000001\n"
     ]
    },
    {
     "name": "stderr",
     "output_type": "stream",
     "text": [
      "  6%|▌         | 163/2955 [15:24<8:12:06, 10.58s/it] "
     ]
    },
    {
     "name": "stdout",
     "output_type": "stream",
     "text": [
      "Total tokens: 71527\n",
      "Average tokens per issue: 438.81595092024537\n",
      "Estimated cost: 2.002756\n"
     ]
    },
    {
     "name": "stderr",
     "output_type": "stream",
     "text": [
      "  6%|▌         | 164/2955 [15:48<11:11:14, 14.43s/it]"
     ]
    },
    {
     "name": "stdout",
     "output_type": "stream",
     "text": [
      "Total tokens: 71956\n",
      "Average tokens per issue: 438.7560975609756\n",
      "Estimated cost: 2.014768\n"
     ]
    },
    {
     "name": "stderr",
     "output_type": "stream",
     "text": [
      "  6%|▌         | 165/2955 [15:50<8:15:23, 10.65s/it] "
     ]
    },
    {
     "name": "stdout",
     "output_type": "stream",
     "text": [
      "Total tokens: 72404\n",
      "Average tokens per issue: 438.8121212121212\n",
      "Estimated cost: 2.027312\n"
     ]
    },
    {
     "name": "stderr",
     "output_type": "stream",
     "text": [
      "  6%|▌         | 166/2955 [16:13<11:08:57, 14.39s/it]"
     ]
    },
    {
     "name": "stdout",
     "output_type": "stream",
     "text": [
      "Total tokens: 72837\n",
      "Average tokens per issue: 438.77710843373495\n",
      "Estimated cost: 2.0394360000000002\n"
     ]
    },
    {
     "name": "stderr",
     "output_type": "stream",
     "text": [
      "  6%|▌         | 167/2955 [16:15<8:13:55, 10.63s/it] "
     ]
    },
    {
     "name": "stdout",
     "output_type": "stream",
     "text": [
      "Total tokens: 73281\n",
      "Average tokens per issue: 438.80838323353294\n",
      "Estimated cost: 2.0518680000000002\n"
     ]
    },
    {
     "name": "stderr",
     "output_type": "stream",
     "text": [
      "  6%|▌         | 168/2955 [16:37<11:03:47, 14.29s/it]"
     ]
    },
    {
     "name": "stdout",
     "output_type": "stream",
     "text": [
      "Total tokens: 73712\n",
      "Average tokens per issue: 438.76190476190476\n",
      "Estimated cost: 2.063936\n"
     ]
    },
    {
     "name": "stderr",
     "output_type": "stream",
     "text": [
      "  6%|▌         | 169/2955 [16:39<8:12:53, 10.62s/it] "
     ]
    },
    {
     "name": "stdout",
     "output_type": "stream",
     "text": [
      "Total tokens: 74141\n",
      "Average tokens per issue: 438.70414201183434\n",
      "Estimated cost: 2.0759480000000003\n"
     ]
    },
    {
     "name": "stderr",
     "output_type": "stream",
     "text": [
      "  6%|▌         | 170/2955 [17:02<11:03:25, 14.29s/it]"
     ]
    },
    {
     "name": "stdout",
     "output_type": "stream",
     "text": [
      "Total tokens: 74572\n",
      "Average tokens per issue: 438.6588235294118\n",
      "Estimated cost: 2.088016\n"
     ]
    },
    {
     "name": "stderr",
     "output_type": "stream",
     "text": [
      "  6%|▌         | 171/2955 [17:04<8:13:42, 10.64s/it] "
     ]
    },
    {
     "name": "stdout",
     "output_type": "stream",
     "text": [
      "Total tokens: 75018\n",
      "Average tokens per issue: 438.70175438596493\n",
      "Estimated cost: 2.100504\n"
     ]
    },
    {
     "name": "stderr",
     "output_type": "stream",
     "text": [
      "  6%|▌         | 172/2955 [17:27<11:04:54, 14.34s/it]"
     ]
    },
    {
     "name": "stdout",
     "output_type": "stream",
     "text": [
      "Total tokens: 75459\n",
      "Average tokens per issue: 438.7151162790698\n",
      "Estimated cost: 2.112852\n"
     ]
    },
    {
     "name": "stderr",
     "output_type": "stream",
     "text": [
      "  6%|▌         | 173/2955 [17:29<8:09:44, 10.56s/it] "
     ]
    },
    {
     "name": "stdout",
     "output_type": "stream",
     "text": [
      "Total tokens: 75884\n",
      "Average tokens per issue: 438.63583815028903\n",
      "Estimated cost: 2.124752\n"
     ]
    },
    {
     "name": "stderr",
     "output_type": "stream",
     "text": [
      "  6%|▌         | 174/2955 [17:52<10:58:39, 14.21s/it]"
     ]
    },
    {
     "name": "stdout",
     "output_type": "stream",
     "text": [
      "Total tokens: 76332\n",
      "Average tokens per issue: 438.6896551724138\n",
      "Estimated cost: 2.137296\n"
     ]
    },
    {
     "name": "stderr",
     "output_type": "stream",
     "text": [
      "  6%|▌         | 175/2955 [17:54<8:04:14, 10.45s/it] "
     ]
    },
    {
     "name": "stdout",
     "output_type": "stream",
     "text": [
      "Total tokens: 76764\n",
      "Average tokens per issue: 438.6514285714286\n",
      "Estimated cost: 2.1493919999999997\n"
     ]
    },
    {
     "name": "stderr",
     "output_type": "stream",
     "text": [
      "  6%|▌         | 176/2955 [18:16<10:55:03, 14.14s/it]"
     ]
    },
    {
     "name": "stdout",
     "output_type": "stream",
     "text": [
      "Total tokens: 77192\n",
      "Average tokens per issue: 438.59090909090907\n",
      "Estimated cost: 2.1613759999999997\n"
     ]
    },
    {
     "name": "stderr",
     "output_type": "stream",
     "text": [
      "  6%|▌         | 177/2955 [18:18<8:06:19, 10.50s/it] "
     ]
    },
    {
     "name": "stdout",
     "output_type": "stream",
     "text": [
      "Total tokens: 77633\n",
      "Average tokens per issue: 438.6045197740113\n",
      "Estimated cost: 2.173724\n"
     ]
    },
    {
     "name": "stderr",
     "output_type": "stream",
     "text": [
      "  6%|▌         | 178/2955 [18:42<11:02:00, 14.30s/it]"
     ]
    },
    {
     "name": "stdout",
     "output_type": "stream",
     "text": [
      "Total tokens: 78071\n",
      "Average tokens per issue: 438.6011235955056\n",
      "Estimated cost: 2.185988\n"
     ]
    },
    {
     "name": "stderr",
     "output_type": "stream",
     "text": [
      "  6%|▌         | 179/2955 [18:43<8:07:46, 10.54s/it] "
     ]
    },
    {
     "name": "stdout",
     "output_type": "stream",
     "text": [
      "Total tokens: 78522\n",
      "Average tokens per issue: 438.6703910614525\n",
      "Estimated cost: 2.1986160000000003\n"
     ]
    },
    {
     "name": "stderr",
     "output_type": "stream",
     "text": [
      "  6%|▌         | 180/2955 [19:07<11:03:38, 14.35s/it]"
     ]
    },
    {
     "name": "stdout",
     "output_type": "stream",
     "text": [
      "Total tokens: 78970\n",
      "Average tokens per issue: 438.72222222222223\n",
      "Estimated cost: 2.21116\n"
     ]
    },
    {
     "name": "stderr",
     "output_type": "stream",
     "text": [
      "  6%|▌         | 181/2955 [19:09<8:12:54, 10.66s/it] "
     ]
    },
    {
     "name": "stdout",
     "output_type": "stream",
     "text": [
      "Total tokens: 79400\n",
      "Average tokens per issue: 438.6740331491713\n",
      "Estimated cost: 2.2232000000000003\n"
     ]
    },
    {
     "name": "stderr",
     "output_type": "stream",
     "text": [
      "  6%|▌         | 182/2955 [19:32<11:06:19, 14.42s/it]"
     ]
    },
    {
     "name": "stdout",
     "output_type": "stream",
     "text": [
      "Total tokens: 79843\n",
      "Average tokens per issue: 438.6978021978022\n",
      "Estimated cost: 2.235604\n"
     ]
    },
    {
     "name": "stderr",
     "output_type": "stream",
     "text": [
      "  6%|▌         | 183/2955 [19:34<8:10:49, 10.62s/it] "
     ]
    },
    {
     "name": "stdout",
     "output_type": "stream",
     "text": [
      "Total tokens: 80284\n",
      "Average tokens per issue: 438.7103825136612\n",
      "Estimated cost: 2.247952\n"
     ]
    },
    {
     "name": "stderr",
     "output_type": "stream",
     "text": [
      "  6%|▌         | 183/2955 [19:41<4:58:23,  6.46s/it]\n"
     ]
    },
    {
     "ename": "KeyboardInterrupt",
     "evalue": "",
     "output_type": "error",
     "traceback": [
      "\u001b[0;31m---------------------------------------------------------------------------\u001b[0m",
      "\u001b[0;31mRateLimitError\u001b[0m                            Traceback (most recent call last)",
      "Cell \u001b[0;32mIn[28], line 8\u001b[0m\n\u001b[1;32m      7\u001b[0m \u001b[39mtry\u001b[39;00m:\n\u001b[0;32m----> 8\u001b[0m     description_quality, summary, short_label, label, tokens \u001b[39m=\u001b[39m get_issue_reponses(title, body)\n\u001b[1;32m      9\u001b[0m     data[i, \u001b[39m\"\u001b[39m\u001b[39mdescription_quality\u001b[39m\u001b[39m\"\u001b[39m] \u001b[39m=\u001b[39m description_quality\n",
      "Cell \u001b[0;32mIn[18], line 23\u001b[0m, in \u001b[0;36mget_issue_reponses\u001b[0;34m(title, body)\u001b[0m\n\u001b[1;32m     21\u001b[0m cost \u001b[39m+\u001b[39m\u001b[39m=\u001b[39m response[\u001b[39m'\u001b[39m\u001b[39musage\u001b[39m\u001b[39m'\u001b[39m][\u001b[39m\"\u001b[39m\u001b[39mtotal_tokens\u001b[39m\u001b[39m\"\u001b[39m]\n\u001b[0;32m---> 23\u001b[0m response \u001b[39m=\u001b[39m openai\u001b[39m.\u001b[39;49mChatCompletion\u001b[39m.\u001b[39;49mcreate(\n\u001b[1;32m     24\u001b[0m     engine\u001b[39m=\u001b[39;49mconfig[\u001b[39m\"\u001b[39;49m\u001b[39mOPENAI_ENGINE\u001b[39;49m\u001b[39m\"\u001b[39;49m], \n\u001b[1;32m     25\u001b[0m     messages\u001b[39m=\u001b[39;49m[\n\u001b[1;32m     26\u001b[0m         {\u001b[39m\"\u001b[39;49m\u001b[39mrole\u001b[39;49m\u001b[39m\"\u001b[39;49m: \u001b[39m\"\u001b[39;49m\u001b[39msystem\u001b[39;49m\u001b[39m\"\u001b[39;49m, \u001b[39m\"\u001b[39;49m\u001b[39mcontent\u001b[39;49m\u001b[39m\"\u001b[39;49m: \u001b[39m\"\u001b[39;49m\u001b[39mYou are a helpful assistant that is python master and have years of experience with github moderation. You are maintainer of shap package\u001b[39;49m\u001b[39m\"\u001b[39;49m},\n\u001b[1;32m     27\u001b[0m         {\u001b[39m\"\u001b[39;49m\u001b[39mrole\u001b[39;49m\u001b[39m\"\u001b[39;49m: \u001b[39m\"\u001b[39;49m\u001b[39muser\u001b[39;49m\u001b[39m\"\u001b[39;49m, \u001b[39m\"\u001b[39;49m\u001b[39mcontent\u001b[39;49m\u001b[39m\"\u001b[39;49m: \u001b[39mf\u001b[39;49m\u001b[39m\"\u001b[39;49m\u001b[39mSuggest short label for this issue. Label should be of maximum two words: \u001b[39;49m\u001b[39m\\n\u001b[39;49;00m\u001b[39mtitle: \u001b[39;49m\u001b[39m{\u001b[39;49;00mtitle\u001b[39m}\u001b[39;49;00m\u001b[39m\\n\u001b[39;49;00m\u001b[39mbody: \u001b[39;49m\u001b[39m{\u001b[39;49;00mbody\u001b[39m}\u001b[39;49;00m\u001b[39m\"\u001b[39;49m},\n\u001b[1;32m     28\u001b[0m     ]\n\u001b[1;32m     29\u001b[0m )\n\u001b[1;32m     30\u001b[0m short_label \u001b[39m=\u001b[39m response[\u001b[39m'\u001b[39m\u001b[39mchoices\u001b[39m\u001b[39m'\u001b[39m][\u001b[39m0\u001b[39m][\u001b[39m'\u001b[39m\u001b[39mmessage\u001b[39m\u001b[39m'\u001b[39m][\u001b[39m'\u001b[39m\u001b[39mcontent\u001b[39m\u001b[39m'\u001b[39m]\n",
      "File \u001b[0;32m~/Documents/projects/shap-issues/env/lib/python3.11/site-packages/openai/api_resources/chat_completion.py:25\u001b[0m, in \u001b[0;36mChatCompletion.create\u001b[0;34m(cls, *args, **kwargs)\u001b[0m\n\u001b[1;32m     24\u001b[0m \u001b[39mtry\u001b[39;00m:\n\u001b[0;32m---> 25\u001b[0m     \u001b[39mreturn\u001b[39;00m \u001b[39msuper\u001b[39;49m()\u001b[39m.\u001b[39;49mcreate(\u001b[39m*\u001b[39;49margs, \u001b[39m*\u001b[39;49m\u001b[39m*\u001b[39;49mkwargs)\n\u001b[1;32m     26\u001b[0m \u001b[39mexcept\u001b[39;00m TryAgain \u001b[39mas\u001b[39;00m e:\n",
      "File \u001b[0;32m~/Documents/projects/shap-issues/env/lib/python3.11/site-packages/openai/api_resources/abstract/engine_api_resource.py:153\u001b[0m, in \u001b[0;36mEngineAPIResource.create\u001b[0;34m(cls, api_key, api_base, api_type, request_id, api_version, organization, **params)\u001b[0m\n\u001b[1;32m    138\u001b[0m (\n\u001b[1;32m    139\u001b[0m     deployment_id,\n\u001b[1;32m    140\u001b[0m     engine,\n\u001b[0;32m   (...)\u001b[0m\n\u001b[1;32m    150\u001b[0m     api_key, api_base, api_type, api_version, organization, \u001b[39m*\u001b[39m\u001b[39m*\u001b[39mparams\n\u001b[1;32m    151\u001b[0m )\n\u001b[0;32m--> 153\u001b[0m response, _, api_key \u001b[39m=\u001b[39m requestor\u001b[39m.\u001b[39;49mrequest(\n\u001b[1;32m    154\u001b[0m     \u001b[39m\"\u001b[39;49m\u001b[39mpost\u001b[39;49m\u001b[39m\"\u001b[39;49m,\n\u001b[1;32m    155\u001b[0m     url,\n\u001b[1;32m    156\u001b[0m     params\u001b[39m=\u001b[39;49mparams,\n\u001b[1;32m    157\u001b[0m     headers\u001b[39m=\u001b[39;49mheaders,\n\u001b[1;32m    158\u001b[0m     stream\u001b[39m=\u001b[39;49mstream,\n\u001b[1;32m    159\u001b[0m     request_id\u001b[39m=\u001b[39;49mrequest_id,\n\u001b[1;32m    160\u001b[0m     request_timeout\u001b[39m=\u001b[39;49mrequest_timeout,\n\u001b[1;32m    161\u001b[0m )\n\u001b[1;32m    163\u001b[0m \u001b[39mif\u001b[39;00m stream:\n\u001b[1;32m    164\u001b[0m     \u001b[39m# must be an iterator\u001b[39;00m\n",
      "File \u001b[0;32m~/Documents/projects/shap-issues/env/lib/python3.11/site-packages/openai/api_requestor.py:298\u001b[0m, in \u001b[0;36mAPIRequestor.request\u001b[0;34m(self, method, url, params, headers, files, stream, request_id, request_timeout)\u001b[0m\n\u001b[1;32m    288\u001b[0m result \u001b[39m=\u001b[39m \u001b[39mself\u001b[39m\u001b[39m.\u001b[39mrequest_raw(\n\u001b[1;32m    289\u001b[0m     method\u001b[39m.\u001b[39mlower(),\n\u001b[1;32m    290\u001b[0m     url,\n\u001b[0;32m   (...)\u001b[0m\n\u001b[1;32m    296\u001b[0m     request_timeout\u001b[39m=\u001b[39mrequest_timeout,\n\u001b[1;32m    297\u001b[0m )\n\u001b[0;32m--> 298\u001b[0m resp, got_stream \u001b[39m=\u001b[39m \u001b[39mself\u001b[39;49m\u001b[39m.\u001b[39;49m_interpret_response(result, stream)\n\u001b[1;32m    299\u001b[0m \u001b[39mreturn\u001b[39;00m resp, got_stream, \u001b[39mself\u001b[39m\u001b[39m.\u001b[39mapi_key\n",
      "File \u001b[0;32m~/Documents/projects/shap-issues/env/lib/python3.11/site-packages/openai/api_requestor.py:700\u001b[0m, in \u001b[0;36mAPIRequestor._interpret_response\u001b[0;34m(self, result, stream)\u001b[0m\n\u001b[1;32m    698\u001b[0m \u001b[39melse\u001b[39;00m:\n\u001b[1;32m    699\u001b[0m     \u001b[39mreturn\u001b[39;00m (\n\u001b[0;32m--> 700\u001b[0m         \u001b[39mself\u001b[39;49m\u001b[39m.\u001b[39;49m_interpret_response_line(\n\u001b[1;32m    701\u001b[0m             result\u001b[39m.\u001b[39;49mcontent\u001b[39m.\u001b[39;49mdecode(\u001b[39m\"\u001b[39;49m\u001b[39mutf-8\u001b[39;49m\u001b[39m\"\u001b[39;49m),\n\u001b[1;32m    702\u001b[0m             result\u001b[39m.\u001b[39;49mstatus_code,\n\u001b[1;32m    703\u001b[0m             result\u001b[39m.\u001b[39;49mheaders,\n\u001b[1;32m    704\u001b[0m             stream\u001b[39m=\u001b[39;49m\u001b[39mFalse\u001b[39;49;00m,\n\u001b[1;32m    705\u001b[0m         ),\n\u001b[1;32m    706\u001b[0m         \u001b[39mFalse\u001b[39;00m,\n\u001b[1;32m    707\u001b[0m     )\n",
      "File \u001b[0;32m~/Documents/projects/shap-issues/env/lib/python3.11/site-packages/openai/api_requestor.py:765\u001b[0m, in \u001b[0;36mAPIRequestor._interpret_response_line\u001b[0;34m(self, rbody, rcode, rheaders, stream)\u001b[0m\n\u001b[1;32m    764\u001b[0m \u001b[39mif\u001b[39;00m stream_error \u001b[39mor\u001b[39;00m \u001b[39mnot\u001b[39;00m \u001b[39m200\u001b[39m \u001b[39m<\u001b[39m\u001b[39m=\u001b[39m rcode \u001b[39m<\u001b[39m \u001b[39m300\u001b[39m:\n\u001b[0;32m--> 765\u001b[0m     \u001b[39mraise\u001b[39;00m \u001b[39mself\u001b[39m\u001b[39m.\u001b[39mhandle_error_response(\n\u001b[1;32m    766\u001b[0m         rbody, rcode, resp\u001b[39m.\u001b[39mdata, rheaders, stream_error\u001b[39m=\u001b[39mstream_error\n\u001b[1;32m    767\u001b[0m     )\n\u001b[1;32m    768\u001b[0m \u001b[39mreturn\u001b[39;00m resp\n",
      "\u001b[0;31mRateLimitError\u001b[0m: Requests to the Creates a completion for the chat message Operation under Azure OpenAI API version 2023-05-15 have exceeded call rate limit of your current OpenAI S0 pricing tier. Please retry after 6 seconds. Please go here: https://aka.ms/oai/quotaincrease if you would like to further increase the default rate limit.",
      "\nDuring handling of the above exception, another exception occurred:\n",
      "\u001b[0;31mKeyboardInterrupt\u001b[0m                         Traceback (most recent call last)",
      "Cell \u001b[0;32mIn[28], line 15\u001b[0m\n\u001b[1;32m     13\u001b[0m     total_tokens \u001b[39m+\u001b[39m\u001b[39m=\u001b[39m tokens\n\u001b[1;32m     14\u001b[0m \u001b[39mexcept\u001b[39;00m openai\u001b[39m.\u001b[39merror\u001b[39m.\u001b[39mRateLimitError:\n\u001b[0;32m---> 15\u001b[0m     time\u001b[39m.\u001b[39msleep(\u001b[39m20\u001b[39m)\n\u001b[1;32m     16\u001b[0m     description_quality, summary, short_label, label, tokens \u001b[39m=\u001b[39m get_issue_reponses(title, body)\n\u001b[1;32m     17\u001b[0m     data[i, \u001b[39m\"\u001b[39m\u001b[39mdescription_quality\u001b[39m\u001b[39m\"\u001b[39m] \u001b[39m=\u001b[39m description_quality\n",
      "\u001b[0;31mKeyboardInterrupt\u001b[0m: "
     ]
    }
   ],
   "source": [
    "\n",
    "for i in tqdm(range(len(data))):\n",
    "    if data[i, \"summary\"] != \"\":\n",
    "        continue\n",
    "    row = data[i]\n",
    "    title = row[\"title\"]\n",
    "    body = row[\"body\"]\n",
    "    try:\n",
    "        description_quality, summary, short_label, label, tokens = get_issue_reponses(title, body)\n",
    "        data[i, \"description_quality\"] = description_quality\n",
    "        data[i, \"summary\"] = summary\n",
    "        data[i, \"short_label\"] = short_label\n",
    "        data[i, \"label\"] = label\n",
    "        total_tokens += tokens\n",
    "    except openai.error.RateLimitError:\n",
    "        time.sleep(20)\n",
    "        description_quality, summary, short_label, label, tokens = get_issue_reponses(title, body)\n",
    "        data[i, \"description_quality\"] = description_quality\n",
    "        data[i, \"summary\"] = summary\n",
    "        data[i, \"short_label\"] = short_label\n",
    "        data[i, \"label\"] = label\n",
    "        total_tokens += tokens\n",
    "    print(f\"Total tokens: {total_tokens}\")\n",
    "    print(f\"Average tokens per issue: {total_tokens / (i + 1)}\")\n",
    "    print(f\"Estimated cost: {total_tokens / 1000 * 0.028}\")"
   ]
  },
  {
   "cell_type": "code",
   "execution_count": 29,
   "metadata": {},
   "outputs": [],
   "source": [
    "data.write_json(\"../data/issues_v1_gpt.json\", row_oriented=True, pretty=True)"
   ]
  },
  {
   "cell_type": "code",
   "execution_count": null,
   "metadata": {},
   "outputs": [],
   "source": []
  }
 ],
 "metadata": {
  "kernelspec": {
   "display_name": "env",
   "language": "python",
   "name": "python3"
  },
  "language_info": {
   "codemirror_mode": {
    "name": "ipython",
    "version": 3
   },
   "file_extension": ".py",
   "mimetype": "text/x-python",
   "name": "python",
   "nbconvert_exporter": "python",
   "pygments_lexer": "ipython3",
   "version": "3.11.4"
  },
  "orig_nbformat": 4
 },
 "nbformat": 4,
 "nbformat_minor": 2
}
