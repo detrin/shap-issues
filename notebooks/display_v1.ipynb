{
 "cells": [
  {
   "cell_type": "code",
   "execution_count": 57,
   "metadata": {},
   "outputs": [],
   "source": [
    "import pandas as pd\n",
    "import datetime\n",
    "import pytz"
   ]
  },
  {
   "cell_type": "code",
   "execution_count": 64,
   "metadata": {},
   "outputs": [],
   "source": [
    "data = pd.read_json(\"../data/issues_v1.json\", encoding=\"ISO-8859-1\")\n",
    "data[\"created_at\"] = pd.to_datetime(data[\"created_at\"])\n",
    "data[\"updated_at\"] = pd.to_datetime(data[\"updated_at\"])\n",
    "today = datetime.datetime.now(tz=pytz.timezone(\"Europe/Prague\"))\n",
    "data[\"days_since_created\"] = (today - data[\"created_at\"]).dt.days\n",
    "data[\"days_since_updated\"] = (today - data[\"updated_at\"]).dt.days\n",
    "data[\"body_length\"] = data[\"body\"].str.len()\n",
    "data[\"created_at\"] = data[\"created_at\"].dt.strftime(\"%Y-%m-%d\")\n",
    "data[\"updated_at\"] = data[\"updated_at\"].dt.strftime(\"%Y-%m-%d\")\n",
    "data = data[~data[\"pull_request\"]]\n",
    "\n",
    "data_gpt = pd.read_json(\"../data/issues_v1_gpt.json\", encoding=\"ISO-8859-1\")\n",
    "data = data.merge(\n",
    "    data_gpt[[\"number\", \"summary\", \"short_label\", \"label\"]], on=\"number\", how=\"inner\"\n",
    ")\n"
   ]
  },
  {
   "cell_type": "code",
   "execution_count": 65,
   "metadata": {},
   "outputs": [
    {
     "data": {
      "text/plain": [
       "['number',\n",
       " 'state',\n",
       " 'title',\n",
       " 'body',\n",
       " 'comments',\n",
       " 'created_at',\n",
       " 'updated_at',\n",
       " 'author_association',\n",
       " 'html_url',\n",
       " 'pull_request',\n",
       " 'days_since_created',\n",
       " 'days_since_updated',\n",
       " 'body_length',\n",
       " 'summary',\n",
       " 'short_label',\n",
       " 'label']"
      ]
     },
     "execution_count": 65,
     "metadata": {},
     "output_type": "execute_result"
    }
   ],
   "source": [
    "data.columns.tolist()"
   ]
  },
  {
   "cell_type": "code",
   "execution_count": 68,
   "metadata": {},
   "outputs": [],
   "source": [
    "columns = [\n",
    "    \"id\",\n",
    "    \"number\",\n",
    "    \"state\",\n",
    "    \"title\",\n",
    "    \"created_at\",\n",
    "    \"updated_at\",\n",
    "    \"days_since_created\",\n",
    "    \"days_since_updated\",\n",
    "    \"author_association\",\n",
    "    \"comments\",\n",
    "    \"body_length\",\n",
    "    \"summary\",\n",
    "    \"short_label\",\n",
    "    \"label\",\n",
    "]\n",
    "\n",
    "df = pd.DataFrame(columns=columns)\n",
    "links = {}\n",
    "for index, row in data.iterrows():\n",
    "    link_name = f\"link_{index}_\"\n",
    "    links[link_name] = '<a href=\"{}\">{}</a>'.format(row[\"html_url\"], row[\"number\"])\n",
    "    df.loc[index] = [\n",
    "        index,\n",
    "        link_name,\n",
    "        row[\"state\"],\n",
    "        row[\"title\"],\n",
    "        row[\"created_at\"],\n",
    "        row[\"updated_at\"],\n",
    "        row[\"days_since_created\"],\n",
    "        row[\"days_since_updated\"],\n",
    "        row[\"author_association\"],\n",
    "        row[\"comments\"],\n",
    "        row[\"body_length\"],\n",
    "        row[\"summary\"],\n",
    "        row[\"short_label\"],\n",
    "        row[\"label\"],\n",
    "    ]\n",
    "\n",
    "html_str = df.to_html(index=False)\n",
    "for link_name, link in links.items():\n",
    "    html_str = html_str.replace(link_name, link)\n",
    "with open(\"../issues_v1.html\", \"w\") as f:\n",
    "    f.write(html_str)\n",
    "\n",
    "df = df[df[\"state\"] == \"open\"].copy()\n",
    "df = df.drop(columns=[\"state\"])\n",
    "html_str = df.to_html(index=False)\n",
    "for link_name, link in links.items():\n",
    "    html_str = html_str.replace(link_name, link)\n",
    "with open(\"../issues_v1_open.html\", \"w\") as f:\n",
    "    f.write(html_str)\n",
    "\n",
    "# sort by body length\n",
    "df = df.sort_values(by=[\"body_length\"], ascending=True)\n",
    "html_str = df.to_html(index=False)\n",
    "for link_name, link in links.items():\n",
    "    html_str = html_str.replace(link_name, link)\n",
    "with open(\"../issues_v1_open_ordered.html\", \"w\") as f:\n",
    "    f.write(html_str)\n",
    "\n",
    "# sort by number of comments and then by days since updated\n",
    "df = df.sort_values(by=[\"comments\", \"days_since_updated\"], ascending=[False, True])\n",
    "html_str = df.to_html(index=False)\n",
    "for link_name, link in links.items():\n",
    "    html_str = html_str.replace(link_name, link)\n",
    "with open(\"../issues_v1_open_ordered_c.html\", \"w\") as f:\n",
    "    f.write(html_str)"
   ]
  },
  {
   "cell_type": "code",
   "execution_count": null,
   "metadata": {},
   "outputs": [],
   "source": []
  }
 ],
 "metadata": {
  "kernelspec": {
   "display_name": "env",
   "language": "python",
   "name": "python3"
  },
  "language_info": {
   "codemirror_mode": {
    "name": "ipython",
    "version": 3
   },
   "file_extension": ".py",
   "mimetype": "text/x-python",
   "name": "python",
   "nbconvert_exporter": "python",
   "pygments_lexer": "ipython3",
   "version": "3.11.4"
  },
  "orig_nbformat": 4
 },
 "nbformat": 4,
 "nbformat_minor": 2
}
